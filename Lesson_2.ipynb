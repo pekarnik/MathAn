{
 "cells": [
  {
   "cell_type": "markdown",
   "id": "original-kernel",
   "metadata": {},
   "source": [
    "*На языке Python предложить алгоритм вычисляющий численно предел с точностью \n",
    "\n",
    "epsilon = 10^-7 lim(n->Infinity) n/n!^(1/n)"
   ]
  },
  {
   "cell_type": "code",
   "execution_count": 9,
   "id": "administrative-oxygen",
   "metadata": {},
   "outputs": [],
   "source": [
    "import math\n",
    "from decimal import Decimal"
   ]
  },
  {
   "cell_type": "code",
   "execution_count": 10,
   "id": "material-composer",
   "metadata": {},
   "outputs": [],
   "source": [
    "def pow(a,x):\n",
    "    if(x>=0):\n",
    "        a = a**Decimal(x)\n",
    "    else:\n",
    "        a = 1/(a^x)\n",
    "    return a"
   ]
  },
  {
   "cell_type": "code",
   "execution_count": 11,
   "id": "quality-innocent",
   "metadata": {},
   "outputs": [],
   "source": [
    "def factorial(a):\n",
    "    result = 1\n",
    "    while a > 1:\n",
    "        result *= a\n",
    "        a -= 1\n",
    "    return result"
   ]
  },
  {
   "cell_type": "code",
   "execution_count": 12,
   "id": "prime-hampshire",
   "metadata": {},
   "outputs": [],
   "source": [
    "epsilon = pow(10,-7)"
   ]
  },
  {
   "cell_type": "code",
   "execution_count": 13,
   "id": "likely-visit",
   "metadata": {},
   "outputs": [
    {
     "name": "stdout",
     "output_type": "stream",
     "text": [
      "-0.07692307692307693\n"
     ]
    }
   ],
   "source": [
    "print(epsilon)"
   ]
  },
  {
   "cell_type": "markdown",
   "id": "sunrise-ozone",
   "metadata": {},
   "source": [
    "+=100 для ускорения сходимости"
   ]
  },
  {
   "cell_type": "code",
   "execution_count": 14,
   "id": "massive-mouth",
   "metadata": {},
   "outputs": [],
   "source": [
    "def size_limit(count, step):\n",
    "    result = 1\n",
    "    i = 1\n",
    "    while count > 0:\n",
    "        try:\n",
    "            result = i/pow(Decimal(factorial(i)),1/i)\n",
    "            i += step\n",
    "            print(result)\n",
    "        except:\n",
    "            print(result)\n",
    "        count -= 1"
   ]
  },
  {
   "cell_type": "code",
   "execution_count": null,
   "id": "constant-payday",
   "metadata": {},
   "outputs": [
    {
     "name": "stdout",
     "output_type": "stream",
     "text": [
      "1\n",
      "2.706431479330523334409099955\n",
      "2.711877877536898242244729770\n",
      "2.713826887841149574370905025\n",
      "2.714842088993985125826544644\n",
      "2.715468984321171458280505619"
     ]
    }
   ],
   "source": [
    "size_limit(math.inf, 1000)"
   ]
  },
  {
   "cell_type": "code",
   "execution_count": null,
   "id": "automatic-wallpaper",
   "metadata": {},
   "outputs": [],
   "source": []
  }
 ],
 "metadata": {
  "kernelspec": {
   "display_name": "Python 3",
   "language": "python",
   "name": "python3"
  },
  "language_info": {
   "codemirror_mode": {
    "name": "ipython",
    "version": 3
   },
   "file_extension": ".py",
   "mimetype": "text/x-python",
   "name": "python",
   "nbconvert_exporter": "python",
   "pygments_lexer": "ipython3",
   "version": "3.9.1"
  }
 },
 "nbformat": 4,
 "nbformat_minor": 5
}
